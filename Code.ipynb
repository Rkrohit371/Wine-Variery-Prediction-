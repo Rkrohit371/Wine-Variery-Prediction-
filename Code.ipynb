{
 "cells": [
  {
   "cell_type": "code",
   "execution_count": 1,
   "metadata": {},
   "outputs": [],
   "source": [
    "import pandas as pd\n",
    "import numpy as np\n",
    "import matplotlib.pyplot as plt\n",
    "import seaborn as sns"
   ]
  },
  {
   "cell_type": "code",
   "execution_count": 2,
   "metadata": {},
   "outputs": [
    {
     "data": {
      "text/html": [
       "<div>\n",
       "<style scoped>\n",
       "    .dataframe tbody tr th:only-of-type {\n",
       "        vertical-align: middle;\n",
       "    }\n",
       "\n",
       "    .dataframe tbody tr th {\n",
       "        vertical-align: top;\n",
       "    }\n",
       "\n",
       "    .dataframe thead th {\n",
       "        text-align: right;\n",
       "    }\n",
       "</style>\n",
       "<table border=\"1\" class=\"dataframe\">\n",
       "  <thead>\n",
       "    <tr style=\"text-align: right;\">\n",
       "      <th></th>\n",
       "      <th>user_name</th>\n",
       "      <th>country</th>\n",
       "      <th>review_title</th>\n",
       "      <th>review_description</th>\n",
       "      <th>designation</th>\n",
       "      <th>points</th>\n",
       "      <th>price</th>\n",
       "      <th>province</th>\n",
       "      <th>region_1</th>\n",
       "      <th>region_2</th>\n",
       "      <th>winery</th>\n",
       "      <th>variety</th>\n",
       "    </tr>\n",
       "  </thead>\n",
       "  <tbody>\n",
       "    <tr>\n",
       "      <td>0</td>\n",
       "      <td>NaN</td>\n",
       "      <td>Australia</td>\n",
       "      <td>Andrew Peace 2007 Peace Family Vineyard Chardo...</td>\n",
       "      <td>Classic Chardonnay aromas of apple, pear and h...</td>\n",
       "      <td>Peace Family Vineyard</td>\n",
       "      <td>83</td>\n",
       "      <td>10.0</td>\n",
       "      <td>Australia Other</td>\n",
       "      <td>South Eastern Australia</td>\n",
       "      <td>NaN</td>\n",
       "      <td>Andrew Peace</td>\n",
       "      <td>Chardonnay</td>\n",
       "    </tr>\n",
       "    <tr>\n",
       "      <td>1</td>\n",
       "      <td>@wawinereport</td>\n",
       "      <td>US</td>\n",
       "      <td>North by Northwest 2014 Red (Columbia Valley (...</td>\n",
       "      <td>This wine is near equal parts Syrah and Merlot...</td>\n",
       "      <td>NaN</td>\n",
       "      <td>89</td>\n",
       "      <td>15.0</td>\n",
       "      <td>Washington</td>\n",
       "      <td>Columbia Valley (WA)</td>\n",
       "      <td>Columbia Valley</td>\n",
       "      <td>North by Northwest</td>\n",
       "      <td>Red Blend</td>\n",
       "    </tr>\n",
       "    <tr>\n",
       "      <td>2</td>\n",
       "      <td>NaN</td>\n",
       "      <td>Italy</td>\n",
       "      <td>Renato Ratti 2007 Conca  (Barolo)</td>\n",
       "      <td>Barolo Conca opens with inky dark concentratio...</td>\n",
       "      <td>Conca</td>\n",
       "      <td>94</td>\n",
       "      <td>80.0</td>\n",
       "      <td>Piedmont</td>\n",
       "      <td>Barolo</td>\n",
       "      <td>NaN</td>\n",
       "      <td>Renato Ratti</td>\n",
       "      <td>Nebbiolo</td>\n",
       "    </tr>\n",
       "    <tr>\n",
       "      <td>3</td>\n",
       "      <td>@vossroger</td>\n",
       "      <td>France</td>\n",
       "      <td>Domaine l'Ancienne Cure 2010 L'Abbaye White (B...</td>\n",
       "      <td>It's impressive what a small addition of Sauvi...</td>\n",
       "      <td>L'Abbaye</td>\n",
       "      <td>87</td>\n",
       "      <td>22.0</td>\n",
       "      <td>Southwest France</td>\n",
       "      <td>Bergerac Sec</td>\n",
       "      <td>NaN</td>\n",
       "      <td>Domaine l'Ancienne Cure</td>\n",
       "      <td>Bordeaux-style White Blend</td>\n",
       "    </tr>\n",
       "    <tr>\n",
       "      <td>4</td>\n",
       "      <td>@vossroger</td>\n",
       "      <td>France</td>\n",
       "      <td>Château du Cèdre 2012 Le Cèdre Vintage Malbec ...</td>\n",
       "      <td>This ripe, sweet wine is rich and full of drie...</td>\n",
       "      <td>Le Cèdre Vintage</td>\n",
       "      <td>88</td>\n",
       "      <td>33.0</td>\n",
       "      <td>France Other</td>\n",
       "      <td>Vin de Liqueur</td>\n",
       "      <td>NaN</td>\n",
       "      <td>Château du Cèdre</td>\n",
       "      <td>Malbec</td>\n",
       "    </tr>\n",
       "  </tbody>\n",
       "</table>\n",
       "</div>"
      ],
      "text/plain": [
       "       user_name    country  \\\n",
       "0            NaN  Australia   \n",
       "1  @wawinereport         US   \n",
       "2            NaN      Italy   \n",
       "3     @vossroger     France   \n",
       "4     @vossroger     France   \n",
       "\n",
       "                                        review_title  \\\n",
       "0  Andrew Peace 2007 Peace Family Vineyard Chardo...   \n",
       "1  North by Northwest 2014 Red (Columbia Valley (...   \n",
       "2                  Renato Ratti 2007 Conca  (Barolo)   \n",
       "3  Domaine l'Ancienne Cure 2010 L'Abbaye White (B...   \n",
       "4  Château du Cèdre 2012 Le Cèdre Vintage Malbec ...   \n",
       "\n",
       "                                  review_description            designation  \\\n",
       "0  Classic Chardonnay aromas of apple, pear and h...  Peace Family Vineyard   \n",
       "1  This wine is near equal parts Syrah and Merlot...                    NaN   \n",
       "2  Barolo Conca opens with inky dark concentratio...                  Conca   \n",
       "3  It's impressive what a small addition of Sauvi...               L'Abbaye   \n",
       "4  This ripe, sweet wine is rich and full of drie...       Le Cèdre Vintage   \n",
       "\n",
       "   points  price          province                 region_1         region_2  \\\n",
       "0      83   10.0   Australia Other  South Eastern Australia              NaN   \n",
       "1      89   15.0        Washington     Columbia Valley (WA)  Columbia Valley   \n",
       "2      94   80.0          Piedmont                   Barolo              NaN   \n",
       "3      87   22.0  Southwest France             Bergerac Sec              NaN   \n",
       "4      88   33.0      France Other           Vin de Liqueur              NaN   \n",
       "\n",
       "                    winery                     variety  \n",
       "0             Andrew Peace                  Chardonnay  \n",
       "1       North by Northwest                   Red Blend  \n",
       "2             Renato Ratti                    Nebbiolo  \n",
       "3  Domaine l'Ancienne Cure  Bordeaux-style White Blend  \n",
       "4         Château du Cèdre                      Malbec  "
      ]
     },
     "execution_count": 2,
     "metadata": {},
     "output_type": "execute_result"
    }
   ],
   "source": [
    "df = pd.read_csv('train.csv')\n",
    "df.head()"
   ]
  },
  {
   "cell_type": "code",
   "execution_count": 3,
   "metadata": {},
   "outputs": [
    {
     "data": {
      "text/plain": [
       "'This wine is near equal parts Syrah and Merlot with the balance Cabernet Sauvignon. Aromas of blue fruit, vanilla, cherry and herb lead to full-bodied pit-fruit flavors that bring a sense of deliciousness that is hard to resist.'"
      ]
     },
     "execution_count": 3,
     "metadata": {},
     "output_type": "execute_result"
    }
   ],
   "source": [
    "df['review_description'][1]"
   ]
  },
  {
   "cell_type": "code",
   "execution_count": 4,
   "metadata": {},
   "outputs": [
    {
     "name": "stdout",
     "output_type": "stream",
     "text": [
      "<class 'pandas.core.frame.DataFrame'>\n",
      "RangeIndex: 82657 entries, 0 to 82656\n",
      "Data columns (total 12 columns):\n",
      "user_name             63264 non-null object\n",
      "country               82622 non-null object\n",
      "review_title          82657 non-null object\n",
      "review_description    82657 non-null object\n",
      "designation           59010 non-null object\n",
      "points                82657 non-null int64\n",
      "price                 77088 non-null float64\n",
      "province              82622 non-null object\n",
      "region_1              69903 non-null object\n",
      "region_2              35949 non-null object\n",
      "winery                82657 non-null object\n",
      "variety               82657 non-null object\n",
      "dtypes: float64(1), int64(1), object(10)\n",
      "memory usage: 7.6+ MB\n"
     ]
    }
   ],
   "source": [
    "df.info()"
   ]
  },
  {
   "cell_type": "code",
   "execution_count": 5,
   "metadata": {},
   "outputs": [
    {
     "data": {
      "text/plain": [
       "user_name             19393\n",
       "country                  35\n",
       "review_title              0\n",
       "review_description        0\n",
       "designation           23647\n",
       "points                    0\n",
       "price                  5569\n",
       "province                 35\n",
       "region_1              12754\n",
       "region_2              46708\n",
       "winery                    0\n",
       "variety                   0\n",
       "dtype: int64"
      ]
     },
     "execution_count": 5,
     "metadata": {},
     "output_type": "execute_result"
    }
   ],
   "source": [
    "df.isnull().sum()"
   ]
  },
  {
   "cell_type": "code",
   "execution_count": 62,
   "metadata": {},
   "outputs": [],
   "source": [
    "from nltk.sentiment.vader import SentimentIntensityAnalyzer\n",
    "\n",
    "sid = SentimentIntensityAnalyzer()"
   ]
  },
  {
   "cell_type": "code",
   "execution_count": 63,
   "metadata": {},
   "outputs": [
    {
     "data": {
      "text/html": [
       "<div>\n",
       "<style scoped>\n",
       "    .dataframe tbody tr th:only-of-type {\n",
       "        vertical-align: middle;\n",
       "    }\n",
       "\n",
       "    .dataframe tbody tr th {\n",
       "        vertical-align: top;\n",
       "    }\n",
       "\n",
       "    .dataframe thead th {\n",
       "        text-align: right;\n",
       "    }\n",
       "</style>\n",
       "<table border=\"1\" class=\"dataframe\">\n",
       "  <thead>\n",
       "    <tr style=\"text-align: right;\">\n",
       "      <th></th>\n",
       "      <th>user_name</th>\n",
       "      <th>country</th>\n",
       "      <th>review_title</th>\n",
       "      <th>review_description</th>\n",
       "      <th>designation</th>\n",
       "      <th>points</th>\n",
       "      <th>price</th>\n",
       "      <th>province</th>\n",
       "      <th>region_1</th>\n",
       "      <th>region_2</th>\n",
       "      <th>winery</th>\n",
       "      <th>variety</th>\n",
       "      <th>scores</th>\n",
       "      <th>compound</th>\n",
       "      <th>comp_score</th>\n",
       "    </tr>\n",
       "  </thead>\n",
       "  <tbody>\n",
       "    <tr>\n",
       "      <td>0</td>\n",
       "      <td>NaN</td>\n",
       "      <td>Australia</td>\n",
       "      <td>Andrew Peace 2007 Peace Family Vineyard Chardo...</td>\n",
       "      <td>Classic Chardonnay aromas of apple, pear and h...</td>\n",
       "      <td>Peace Family Vineyard</td>\n",
       "      <td>83</td>\n",
       "      <td>10.0</td>\n",
       "      <td>Australia Other</td>\n",
       "      <td>South Eastern Australia</td>\n",
       "      <td>NaN</td>\n",
       "      <td>Andrew Peace</td>\n",
       "      <td>Chardonnay</td>\n",
       "      <td>{'neg': 0.0, 'neu': 0.871, 'pos': 0.129, 'comp...</td>\n",
       "      <td>0.6486</td>\n",
       "      <td>positive</td>\n",
       "    </tr>\n",
       "    <tr>\n",
       "      <td>1</td>\n",
       "      <td>@wawinereport</td>\n",
       "      <td>US</td>\n",
       "      <td>North by Northwest 2014 Red (Columbia Valley (...</td>\n",
       "      <td>This wine is near equal parts Syrah and Merlot...</td>\n",
       "      <td>NaN</td>\n",
       "      <td>89</td>\n",
       "      <td>15.0</td>\n",
       "      <td>Washington</td>\n",
       "      <td>Columbia Valley (WA)</td>\n",
       "      <td>Columbia Valley</td>\n",
       "      <td>North by Northwest</td>\n",
       "      <td>Red Blend</td>\n",
       "      <td>{'neg': 0.036, 'neu': 0.893, 'pos': 0.071, 'co...</td>\n",
       "      <td>0.3400</td>\n",
       "      <td>positive</td>\n",
       "    </tr>\n",
       "    <tr>\n",
       "      <td>2</td>\n",
       "      <td>NaN</td>\n",
       "      <td>Italy</td>\n",
       "      <td>Renato Ratti 2007 Conca  (Barolo)</td>\n",
       "      <td>Barolo Conca opens with inky dark concentratio...</td>\n",
       "      <td>Conca</td>\n",
       "      <td>94</td>\n",
       "      <td>80.0</td>\n",
       "      <td>Piedmont</td>\n",
       "      <td>Barolo</td>\n",
       "      <td>NaN</td>\n",
       "      <td>Renato Ratti</td>\n",
       "      <td>Nebbiolo</td>\n",
       "      <td>{'neg': 0.0, 'neu': 0.939, 'pos': 0.061, 'comp...</td>\n",
       "      <td>0.1901</td>\n",
       "      <td>positive</td>\n",
       "    </tr>\n",
       "    <tr>\n",
       "      <td>3</td>\n",
       "      <td>@vossroger</td>\n",
       "      <td>France</td>\n",
       "      <td>Domaine l'Ancienne Cure 2010 L'Abbaye White (B...</td>\n",
       "      <td>It's impressive what a small addition of Sauvi...</td>\n",
       "      <td>L'Abbaye</td>\n",
       "      <td>87</td>\n",
       "      <td>22.0</td>\n",
       "      <td>Southwest France</td>\n",
       "      <td>Bergerac Sec</td>\n",
       "      <td>NaN</td>\n",
       "      <td>Domaine l'Ancienne Cure</td>\n",
       "      <td>Bordeaux-style White Blend</td>\n",
       "      <td>{'neg': 0.0, 'neu': 0.883, 'pos': 0.117, 'comp...</td>\n",
       "      <td>0.5106</td>\n",
       "      <td>positive</td>\n",
       "    </tr>\n",
       "    <tr>\n",
       "      <td>4</td>\n",
       "      <td>@vossroger</td>\n",
       "      <td>France</td>\n",
       "      <td>Château du Cèdre 2012 Le Cèdre Vintage Malbec ...</td>\n",
       "      <td>This ripe, sweet wine is rich and full of drie...</td>\n",
       "      <td>Le Cèdre Vintage</td>\n",
       "      <td>88</td>\n",
       "      <td>33.0</td>\n",
       "      <td>France Other</td>\n",
       "      <td>Vin de Liqueur</td>\n",
       "      <td>NaN</td>\n",
       "      <td>Château du Cèdre</td>\n",
       "      <td>Malbec</td>\n",
       "      <td>{'neg': 0.0, 'neu': 0.629, 'pos': 0.371, 'comp...</td>\n",
       "      <td>0.9460</td>\n",
       "      <td>positive</td>\n",
       "    </tr>\n",
       "  </tbody>\n",
       "</table>\n",
       "</div>"
      ],
      "text/plain": [
       "       user_name    country  \\\n",
       "0            NaN  Australia   \n",
       "1  @wawinereport         US   \n",
       "2            NaN      Italy   \n",
       "3     @vossroger     France   \n",
       "4     @vossroger     France   \n",
       "\n",
       "                                        review_title  \\\n",
       "0  Andrew Peace 2007 Peace Family Vineyard Chardo...   \n",
       "1  North by Northwest 2014 Red (Columbia Valley (...   \n",
       "2                  Renato Ratti 2007 Conca  (Barolo)   \n",
       "3  Domaine l'Ancienne Cure 2010 L'Abbaye White (B...   \n",
       "4  Château du Cèdre 2012 Le Cèdre Vintage Malbec ...   \n",
       "\n",
       "                                  review_description            designation  \\\n",
       "0  Classic Chardonnay aromas of apple, pear and h...  Peace Family Vineyard   \n",
       "1  This wine is near equal parts Syrah and Merlot...                    NaN   \n",
       "2  Barolo Conca opens with inky dark concentratio...                  Conca   \n",
       "3  It's impressive what a small addition of Sauvi...               L'Abbaye   \n",
       "4  This ripe, sweet wine is rich and full of drie...       Le Cèdre Vintage   \n",
       "\n",
       "   points  price          province                 region_1         region_2  \\\n",
       "0      83   10.0   Australia Other  South Eastern Australia              NaN   \n",
       "1      89   15.0        Washington     Columbia Valley (WA)  Columbia Valley   \n",
       "2      94   80.0          Piedmont                   Barolo              NaN   \n",
       "3      87   22.0  Southwest France             Bergerac Sec              NaN   \n",
       "4      88   33.0      France Other           Vin de Liqueur              NaN   \n",
       "\n",
       "                    winery                     variety  \\\n",
       "0             Andrew Peace                  Chardonnay   \n",
       "1       North by Northwest                   Red Blend   \n",
       "2             Renato Ratti                    Nebbiolo   \n",
       "3  Domaine l'Ancienne Cure  Bordeaux-style White Blend   \n",
       "4         Château du Cèdre                      Malbec   \n",
       "\n",
       "                                              scores  compound comp_score  \n",
       "0  {'neg': 0.0, 'neu': 0.871, 'pos': 0.129, 'comp...    0.6486   positive  \n",
       "1  {'neg': 0.036, 'neu': 0.893, 'pos': 0.071, 'co...    0.3400   positive  \n",
       "2  {'neg': 0.0, 'neu': 0.939, 'pos': 0.061, 'comp...    0.1901   positive  \n",
       "3  {'neg': 0.0, 'neu': 0.883, 'pos': 0.117, 'comp...    0.5106   positive  \n",
       "4  {'neg': 0.0, 'neu': 0.629, 'pos': 0.371, 'comp...    0.9460   positive  "
      ]
     },
     "execution_count": 63,
     "metadata": {},
     "output_type": "execute_result"
    }
   ],
   "source": [
    "df['scores'] = df['review_description'].apply(lambda review_description: sid.polarity_scores(review_description))\n",
    "\n",
    "df['compound']  = df['scores'].apply(lambda score_dict: score_dict['compound'])\n",
    "\n",
    "df['comp_score'] = df['compound'].apply(lambda c: 'positive' if c >=0 else 'negative')\n",
    "\n",
    "df.head()"
   ]
  },
  {
   "cell_type": "code",
   "execution_count": 91,
   "metadata": {},
   "outputs": [
    {
     "data": {
      "text/html": [
       "<div>\n",
       "<style scoped>\n",
       "    .dataframe tbody tr th:only-of-type {\n",
       "        vertical-align: middle;\n",
       "    }\n",
       "\n",
       "    .dataframe tbody tr th {\n",
       "        vertical-align: top;\n",
       "    }\n",
       "\n",
       "    .dataframe thead th {\n",
       "        text-align: right;\n",
       "    }\n",
       "</style>\n",
       "<table border=\"1\" class=\"dataframe\">\n",
       "  <thead>\n",
       "    <tr style=\"text-align: right;\">\n",
       "      <th></th>\n",
       "      <th>user_name</th>\n",
       "      <th>country</th>\n",
       "      <th>review_title</th>\n",
       "      <th>review_description</th>\n",
       "      <th>designation</th>\n",
       "      <th>points</th>\n",
       "      <th>price</th>\n",
       "      <th>province</th>\n",
       "      <th>region_1</th>\n",
       "      <th>region_2</th>\n",
       "      <th>winery</th>\n",
       "      <th>variety</th>\n",
       "      <th>scores</th>\n",
       "      <th>compound</th>\n",
       "      <th>comp_score</th>\n",
       "      <th>length</th>\n",
       "    </tr>\n",
       "  </thead>\n",
       "  <tbody>\n",
       "    <tr>\n",
       "      <td>0</td>\n",
       "      <td>NaN</td>\n",
       "      <td>Australia</td>\n",
       "      <td>Andrew Peace 2007 Peace Family Vineyard Chardo...</td>\n",
       "      <td>Classic Chardonnay aromas of apple, pear and h...</td>\n",
       "      <td>Peace Family Vineyard</td>\n",
       "      <td>83</td>\n",
       "      <td>10.0</td>\n",
       "      <td>Australia Other</td>\n",
       "      <td>South Eastern Australia</td>\n",
       "      <td>NaN</td>\n",
       "      <td>Andrew Peace</td>\n",
       "      <td>Chardonnay</td>\n",
       "      <td>{'neg': 0.0, 'neu': 0.871, 'pos': 0.129, 'comp...</td>\n",
       "      <td>0.6486</td>\n",
       "      <td>positive</td>\n",
       "      <td>183</td>\n",
       "    </tr>\n",
       "    <tr>\n",
       "      <td>1</td>\n",
       "      <td>@wawinereport</td>\n",
       "      <td>US</td>\n",
       "      <td>North by Northwest 2014 Red (Columbia Valley (...</td>\n",
       "      <td>This wine is near equal parts Syrah and Merlot...</td>\n",
       "      <td>NaN</td>\n",
       "      <td>89</td>\n",
       "      <td>15.0</td>\n",
       "      <td>Washington</td>\n",
       "      <td>Columbia Valley (WA)</td>\n",
       "      <td>Columbia Valley</td>\n",
       "      <td>North by Northwest</td>\n",
       "      <td>Red Blend</td>\n",
       "      <td>{'neg': 0.036, 'neu': 0.893, 'pos': 0.071, 'co...</td>\n",
       "      <td>0.3400</td>\n",
       "      <td>positive</td>\n",
       "      <td>228</td>\n",
       "    </tr>\n",
       "    <tr>\n",
       "      <td>2</td>\n",
       "      <td>NaN</td>\n",
       "      <td>Italy</td>\n",
       "      <td>Renato Ratti 2007 Conca  (Barolo)</td>\n",
       "      <td>Barolo Conca opens with inky dark concentratio...</td>\n",
       "      <td>Conca</td>\n",
       "      <td>94</td>\n",
       "      <td>80.0</td>\n",
       "      <td>Piedmont</td>\n",
       "      <td>Barolo</td>\n",
       "      <td>NaN</td>\n",
       "      <td>Renato Ratti</td>\n",
       "      <td>Nebbiolo</td>\n",
       "      <td>{'neg': 0.0, 'neu': 0.939, 'pos': 0.061, 'comp...</td>\n",
       "      <td>0.1901</td>\n",
       "      <td>positive</td>\n",
       "      <td>275</td>\n",
       "    </tr>\n",
       "    <tr>\n",
       "      <td>3</td>\n",
       "      <td>@vossroger</td>\n",
       "      <td>France</td>\n",
       "      <td>Domaine l'Ancienne Cure 2010 L'Abbaye White (B...</td>\n",
       "      <td>It's impressive what a small addition of Sauvi...</td>\n",
       "      <td>L'Abbaye</td>\n",
       "      <td>87</td>\n",
       "      <td>22.0</td>\n",
       "      <td>Southwest France</td>\n",
       "      <td>Bergerac Sec</td>\n",
       "      <td>NaN</td>\n",
       "      <td>Domaine l'Ancienne Cure</td>\n",
       "      <td>Bordeaux-style White Blend</td>\n",
       "      <td>{'neg': 0.0, 'neu': 0.883, 'pos': 0.117, 'comp...</td>\n",
       "      <td>0.5106</td>\n",
       "      <td>positive</td>\n",
       "      <td>173</td>\n",
       "    </tr>\n",
       "    <tr>\n",
       "      <td>4</td>\n",
       "      <td>@vossroger</td>\n",
       "      <td>France</td>\n",
       "      <td>Château du Cèdre 2012 Le Cèdre Vintage Malbec ...</td>\n",
       "      <td>This ripe, sweet wine is rich and full of drie...</td>\n",
       "      <td>Le Cèdre Vintage</td>\n",
       "      <td>88</td>\n",
       "      <td>33.0</td>\n",
       "      <td>France Other</td>\n",
       "      <td>Vin de Liqueur</td>\n",
       "      <td>NaN</td>\n",
       "      <td>Château du Cèdre</td>\n",
       "      <td>Malbec</td>\n",
       "      <td>{'neg': 0.0, 'neu': 0.629, 'pos': 0.371, 'comp...</td>\n",
       "      <td>0.9460</td>\n",
       "      <td>positive</td>\n",
       "      <td>211</td>\n",
       "    </tr>\n",
       "  </tbody>\n",
       "</table>\n",
       "</div>"
      ],
      "text/plain": [
       "       user_name    country  \\\n",
       "0            NaN  Australia   \n",
       "1  @wawinereport         US   \n",
       "2            NaN      Italy   \n",
       "3     @vossroger     France   \n",
       "4     @vossroger     France   \n",
       "\n",
       "                                        review_title  \\\n",
       "0  Andrew Peace 2007 Peace Family Vineyard Chardo...   \n",
       "1  North by Northwest 2014 Red (Columbia Valley (...   \n",
       "2                  Renato Ratti 2007 Conca  (Barolo)   \n",
       "3  Domaine l'Ancienne Cure 2010 L'Abbaye White (B...   \n",
       "4  Château du Cèdre 2012 Le Cèdre Vintage Malbec ...   \n",
       "\n",
       "                                  review_description            designation  \\\n",
       "0  Classic Chardonnay aromas of apple, pear and h...  Peace Family Vineyard   \n",
       "1  This wine is near equal parts Syrah and Merlot...                    NaN   \n",
       "2  Barolo Conca opens with inky dark concentratio...                  Conca   \n",
       "3  It's impressive what a small addition of Sauvi...               L'Abbaye   \n",
       "4  This ripe, sweet wine is rich and full of drie...       Le Cèdre Vintage   \n",
       "\n",
       "   points  price          province                 region_1         region_2  \\\n",
       "0      83   10.0   Australia Other  South Eastern Australia              NaN   \n",
       "1      89   15.0        Washington     Columbia Valley (WA)  Columbia Valley   \n",
       "2      94   80.0          Piedmont                   Barolo              NaN   \n",
       "3      87   22.0  Southwest France             Bergerac Sec              NaN   \n",
       "4      88   33.0      France Other           Vin de Liqueur              NaN   \n",
       "\n",
       "                    winery                     variety  \\\n",
       "0             Andrew Peace                  Chardonnay   \n",
       "1       North by Northwest                   Red Blend   \n",
       "2             Renato Ratti                    Nebbiolo   \n",
       "3  Domaine l'Ancienne Cure  Bordeaux-style White Blend   \n",
       "4         Château du Cèdre                      Malbec   \n",
       "\n",
       "                                              scores  compound comp_score  \\\n",
       "0  {'neg': 0.0, 'neu': 0.871, 'pos': 0.129, 'comp...    0.6486   positive   \n",
       "1  {'neg': 0.036, 'neu': 0.893, 'pos': 0.071, 'co...    0.3400   positive   \n",
       "2  {'neg': 0.0, 'neu': 0.939, 'pos': 0.061, 'comp...    0.1901   positive   \n",
       "3  {'neg': 0.0, 'neu': 0.883, 'pos': 0.117, 'comp...    0.5106   positive   \n",
       "4  {'neg': 0.0, 'neu': 0.629, 'pos': 0.371, 'comp...    0.9460   positive   \n",
       "\n",
       "   length  \n",
       "0     183  \n",
       "1     228  \n",
       "2     275  \n",
       "3     173  \n",
       "4     211  "
      ]
     },
     "execution_count": 91,
     "metadata": {},
     "output_type": "execute_result"
    }
   ],
   "source": [
    "df['length'] = df['review_description'].apply(len)\n",
    "df.head()"
   ]
  },
  {
   "cell_type": "code",
   "execution_count": 92,
   "metadata": {},
   "outputs": [
    {
     "data": {
      "text/plain": [
       "<matplotlib.axes._subplots.AxesSubplot at 0x7f00db143690>"
      ]
     },
     "execution_count": 92,
     "metadata": {},
     "output_type": "execute_result"
    },
    {
     "data": {
      "image/png": "[encoded data removed]",
      "text/plain": [
       "<Figure size 432x288 with 1 Axes>"
      ]
     },
     "metadata": {
      "needs_background": "light"
     },
     "output_type": "display_data"
    }
   ],
   "source": [
    "df['length'].plot(bins=100, kind='hist') "
   ]
  },
  {
   "cell_type": "code",
   "execution_count": 93,
   "metadata": {},
   "outputs": [],
   "source": [
    "Positive = df[df['comp_score']=='positive']\n",
    "Negative = df[df['comp_score']=='negative']"
   ]
  },
  {
   "cell_type": "code",
   "execution_count": 94,
   "metadata": {},
   "outputs": [
    {
     "data": {
      "text/plain": [
       "<matplotlib.axes._subplots.AxesSubplot at 0x7f00dab9d7d0>"
      ]
     },
     "execution_count": 94,
     "metadata": {},
     "output_type": "execute_result"
    },
    {
     "data": {
      "image/png": "[encoded data removed]",
      "text/plain": [
       "<Figure size 432x288 with 1 Axes>"
      ]
     },
     "metadata": {
      "needs_background": "light"
     },
     "output_type": "display_data"
    }
   ],
   "source": [
    "Positive['length'].plot(bins=60, kind='hist') "
   ]
  },
  {
   "cell_type": "code",
   "execution_count": 95,
   "metadata": {},
   "outputs": [
    {
     "data": {
      "text/plain": [
       "<matplotlib.axes._subplots.AxesSubplot at 0x7f00dabdc850>"
      ]
     },
     "execution_count": 95,
     "metadata": {},
     "output_type": "execute_result"
    },
    {
     "data": {
      "image/png": "[encoded data removed]",
      "text/plain": [
       "<Figure size 432x288 with 1 Axes>"
      ]
     },
     "metadata": {
      "needs_background": "light"
     },
     "output_type": "display_data"
    }
   ],
   "source": [
    "Negative['length'].plot(bins=60, kind='hist') "
   ]
  },
  {
   "cell_type": "code",
   "execution_count": 103,
   "metadata": {},
   "outputs": [
    {
     "data": {
      "text/plain": [
       "<matplotlib.axes._subplots.AxesSubplot at 0x7f00d9faffd0>"
      ]
     },
     "execution_count": 103,
     "metadata": {},
     "output_type": "execute_result"
    },
    {
     "data": {
      "image/png": "[encoded data removed]",
      "text/plain": [
       "<Figure size 1440x720 with 1 Axes>"
      ]
     },
     "metadata": {
      "needs_background": "light"
     },
     "output_type": "display_data"
    }
   ],
   "source": [
    "plt.figure(figsize=(20,10))\n",
    "df.groupby('country').count()['user_name'].plot(kind='bar')"
   ]
  },
  {
   "cell_type": "code",
   "execution_count": 64,
   "metadata": {},
   "outputs": [
    {
     "data": {
      "text/plain": [
       "positive    76594\n",
       "negative     6063\n",
       "Name: comp_score, dtype: int64"
      ]
     },
     "execution_count": 64,
     "metadata": {},
     "output_type": "execute_result"
    }
   ],
   "source": [
    "df['comp_score'].value_counts()"
   ]
  },
  {
   "cell_type": "code",
   "execution_count": 81,
   "metadata": {},
   "outputs": [],
   "source": [
    "df1 = df['points'].astype(int)"
   ]
  },
  {
   "cell_type": "code",
   "execution_count": 87,
   "metadata": {},
   "outputs": [
    {
     "name": "stdout",
     "output_type": "stream",
     "text": [
      "<class 'pandas.core.frame.DataFrame'>\n",
      "RangeIndex: 82657 entries, 0 to 82656\n",
      "Data columns (total 1 columns):\n",
      "points    82657 non-null int64\n",
      "dtypes: int64(1)\n",
      "memory usage: 645.9 KB\n"
     ]
    }
   ],
   "source": [
    "df1 = pd.DataFrame(df1)\n",
    "df1.info()"
   ]
  },
  {
   "cell_type": "code",
   "execution_count": 65,
   "metadata": {},
   "outputs": [
    {
     "data": {
      "text/plain": [
       "<matplotlib.axes._subplots.AxesSubplot at 0x7f00db701590>"
      ]
     },
     "execution_count": 65,
     "metadata": {},
     "output_type": "execute_result"
    },
    {
     "data": {
      "image/png": "[encoded data removed]",
      "text/plain": [
       "<Figure size 432x288 with 1 Axes>"
      ]
     },
     "metadata": {
      "needs_background": "light"
     },
     "output_type": "display_data"
    }
   ],
   "source": [
    "sns.countplot(x='comp_score',data=df,palette='viridis')"
   ]
  },
  {
   "cell_type": "code",
   "execution_count": 68,
   "metadata": {},
   "outputs": [
    {
     "data": {
      "text/plain": [
       "<matplotlib.axes._subplots.AxesSubplot at 0x7f00db4fbed0>"
      ]
     },
     "execution_count": 68,
     "metadata": {},
     "output_type": "execute_result"
    },
    {
     "data": {
      "image/png": "[encoded data removed]",
      "text/plain": [
       "<Figure size 432x288 with 1 Axes>"
      ]
     },
     "metadata": {
      "needs_background": "light"
     },
     "output_type": "display_data"
    }
   ],
   "source": [
    "df['points'].hist()"
   ]
  },
  {
   "cell_type": "code",
   "execution_count": 69,
   "metadata": {},
   "outputs": [
    {
     "data": {
      "text/plain": [
       "<matplotlib.axes._subplots.AxesSubplot at 0x7f00db48bf50>"
      ]
     },
     "execution_count": 69,
     "metadata": {},
     "output_type": "execute_result"
    },
    {
     "data": {
      "image/png": "[encoded data removed]",
      "text/plain": [
       "<Figure size 432x288 with 1 Axes>"
      ]
     },
     "metadata": {
      "needs_background": "light"
     },
     "output_type": "display_data"
    }
   ],
   "source": [
    "df['price'].hist()"
   ]
  },
  {
   "cell_type": "code",
   "execution_count": 76,
   "metadata": {},
   "outputs": [
    {
     "name": "stdout",
     "output_type": "stream",
     "text": [
      "Min Price 4.0\n",
      "Max Price  3300.0\n"
     ]
    }
   ],
   "source": [
    "print(\"Min Price\",df['price'].min())\n",
    "print(\"Max Price \",df['price'].max())"
   ]
  },
  {
   "cell_type": "code",
   "execution_count": 107,
   "metadata": {},
   "outputs": [
    {
     "data": {
      "text/html": [
       "<div>\n",
       "<style scoped>\n",
       "    .dataframe tbody tr th:only-of-type {\n",
       "        vertical-align: middle;\n",
       "    }\n",
       "\n",
       "    .dataframe tbody tr th {\n",
       "        vertical-align: top;\n",
       "    }\n",
       "\n",
       "    .dataframe thead th {\n",
       "        text-align: right;\n",
       "    }\n",
       "</style>\n",
       "<table border=\"1\" class=\"dataframe\">\n",
       "  <thead>\n",
       "    <tr style=\"text-align: right;\">\n",
       "      <th></th>\n",
       "      <th>points</th>\n",
       "      <th>price</th>\n",
       "      <th>compound</th>\n",
       "      <th>length</th>\n",
       "    </tr>\n",
       "  </thead>\n",
       "  <tbody>\n",
       "    <tr>\n",
       "      <td>points</td>\n",
       "      <td>1.000000</td>\n",
       "      <td>0.411550</td>\n",
       "      <td>0.314539</td>\n",
       "      <td>0.567599</td>\n",
       "    </tr>\n",
       "    <tr>\n",
       "      <td>price</td>\n",
       "      <td>0.411550</td>\n",
       "      <td>1.000000</td>\n",
       "      <td>0.074476</td>\n",
       "      <td>0.244552</td>\n",
       "    </tr>\n",
       "    <tr>\n",
       "      <td>compound</td>\n",
       "      <td>0.314539</td>\n",
       "      <td>0.074476</td>\n",
       "      <td>1.000000</td>\n",
       "      <td>0.215316</td>\n",
       "    </tr>\n",
       "    <tr>\n",
       "      <td>length</td>\n",
       "      <td>0.567599</td>\n",
       "      <td>0.244552</td>\n",
       "      <td>0.215316</td>\n",
       "      <td>1.000000</td>\n",
       "    </tr>\n",
       "  </tbody>\n",
       "</table>\n",
       "</div>"
      ],
      "text/plain": [
       "            points     price  compound    length\n",
       "points    1.000000  0.411550  0.314539  0.567599\n",
       "price     0.411550  1.000000  0.074476  0.244552\n",
       "compound  0.314539  0.074476  1.000000  0.215316\n",
       "length    0.567599  0.244552  0.215316  1.000000"
      ]
     },
     "execution_count": 107,
     "metadata": {},
     "output_type": "execute_result"
    }
   ],
   "source": [
    "df.corr()"
   ]
  },
  {
   "cell_type": "code",
   "execution_count": 106,
   "metadata": {},
   "outputs": [
    {
     "data": {
      "text/plain": [
       "88     10504\n",
       "87     10306\n",
       "90      9929\n",
       "86      7641\n",
       "89      7495\n",
       "91      7421\n",
       "92      6412\n",
       "85      5999\n",
       "93      4522\n",
       "84      4174\n",
       "94      2704\n",
       "83      1951\n",
       "82      1184\n",
       "95      1094\n",
       "81       433\n",
       "96       382\n",
       "80       254\n",
       "97       166\n",
       "98        49\n",
       "99        25\n",
       "100       12\n",
       "Name: points, dtype: int64"
      ]
     },
     "execution_count": 106,
     "metadata": {},
     "output_type": "execute_result"
    }
   ],
   "source": [
    "df['points'].value_counts()"
   ]
  },
  {
   "cell_type": "code",
   "execution_count": 104,
   "metadata": {},
   "outputs": [
    {
     "data": {
      "text/plain": [
       "US                38573\n",
       "France            15948\n",
       "Italy              9112\n",
       "Portugal           3197\n",
       "Chile              2891\n",
       "Spain              2755\n",
       "Argentina          2570\n",
       "Austria            1892\n",
       "Germany            1573\n",
       "New Zealand        1121\n",
       "Australia          1028\n",
       "South Africa        727\n",
       "Israel              320\n",
       "Canada              176\n",
       "Greece              139\n",
       "Bulgaria             93\n",
       "Romania              80\n",
       "England              62\n",
       "Slovenia             42\n",
       "Mexico               38\n",
       "Moldova              35\n",
       "Hungary              35\n",
       "Turkey               33\n",
       "Uruguay              33\n",
       "Lebanon              28\n",
       "Brazil               28\n",
       "Morocco              21\n",
       "Croatia              12\n",
       "Georgia              12\n",
       "Ukraine              11\n",
       "Peru                  8\n",
       "Cyprus                6\n",
       "Luxembourg            5\n",
       "Switzerland           5\n",
       "Macedonia             5\n",
       "Serbia                4\n",
       "Czech Republic        3\n",
       "India                 1\n",
       "Name: country, dtype: int64"
      ]
     },
     "execution_count": 104,
     "metadata": {},
     "output_type": "execute_result"
    }
   ],
   "source": [
    "df['country'].value_counts()"
   ]
  },
  {
   "cell_type": "code",
   "execution_count": 61,
   "metadata": {},
   "outputs": [
    {
     "data": {
      "text/plain": [
       "Pinot Noir                    10587\n",
       "Chardonnay                     9403\n",
       "Cabernet Sauvignon             7552\n",
       "Red Blend                      7166\n",
       "Bordeaux-style Red Blend       5497\n",
       "Riesling                       4148\n",
       "Sauvignon Blanc                4011\n",
       "Syrah                          3316\n",
       "Rosé                           2831\n",
       "Merlot                         2471\n",
       "Nebbiolo                       2242\n",
       "Zinfandel                      2209\n",
       "Sangiovese                     2165\n",
       "Malbec                         2119\n",
       "Portuguese Red                 1969\n",
       "White Blend                    1896\n",
       "Sparkling Blend                1739\n",
       "Tempranillo                    1448\n",
       "Rhône-style Red Blend          1182\n",
       "Pinot Gris                     1148\n",
       "Champagne Blend                1133\n",
       "Cabernet Franc                 1095\n",
       "Grüner Veltliner               1055\n",
       "Portuguese White                896\n",
       "Pinot Grigio                    873\n",
       "Bordeaux-style White Blend      850\n",
       "Gewürztraminer                  840\n",
       "Gamay                           816\n",
       "Name: variety, dtype: int64"
      ]
     },
     "execution_count": 61,
     "metadata": {},
     "output_type": "execute_result"
    }
   ],
   "source": [
    "df['variety'].value_counts()"
   ]
  },
  {
   "cell_type": "code",
   "execution_count": 26,
   "metadata": {},
   "outputs": [
    {
     "data": {
      "text/plain": [
       "28"
      ]
     },
     "execution_count": 26,
     "metadata": {},
     "output_type": "execute_result"
    }
   ],
   "source": [
    "len(df['variety'].value_counts())"
   ]
  },
  {
   "cell_type": "code",
   "execution_count": 7,
   "metadata": {},
   "outputs": [
    {
     "data": {
      "text/plain": [
       "13786"
      ]
     },
     "execution_count": 7,
     "metadata": {},
     "output_type": "execute_result"
    }
   ],
   "source": [
    "len(df['winery'].value_counts())"
   ]
  },
  {
   "cell_type": "code",
   "execution_count": 8,
   "metadata": {},
   "outputs": [
    {
     "data": {
      "text/plain": [
       "38"
      ]
     },
     "execution_count": 8,
     "metadata": {},
     "output_type": "execute_result"
    }
   ],
   "source": [
    "len(df['country'].value_counts())"
   ]
  },
  {
   "cell_type": "code",
   "execution_count": 9,
   "metadata": {},
   "outputs": [],
   "source": [
    "from sklearn.feature_extraction.text import CountVectorizer, TfidfVectorizer\n",
    "from sklearn.model_selection import train_test_split\n",
    "from sklearn.naive_bayes import MultinomialNB\n",
    "from sklearn.linear_model import LogisticRegression"
   ]
  },
  {
   "cell_type": "code",
   "execution_count": 30,
   "metadata": {},
   "outputs": [],
   "source": [
    "corpus = df['review_description']\n",
    "cv = CountVectorizer(max_features=15526)\n",
    "X = cv.fit_transform(corpus)"
   ]
  },
  {
   "cell_type": "code",
   "execution_count": 31,
   "metadata": {},
   "outputs": [],
   "source": [
    "y = df['variety']"
   ]
  },
  {
   "cell_type": "code",
   "execution_count": 32,
   "metadata": {},
   "outputs": [],
   "source": [
    "X_train, X_test, y_train, y_test = train_test_split(X, y, test_size=0.33, random_state=42)"
   ]
  },
  {
   "cell_type": "code",
   "execution_count": 33,
   "metadata": {},
   "outputs": [
    {
     "name": "stdout",
     "output_type": "stream",
     "text": [
      "(82657, 12)\n",
      "(55380, 15526)\n"
     ]
    }
   ],
   "source": [
    "print(df.shape)\n",
    "print(X_train.shape)"
   ]
  },
  {
   "cell_type": "code",
   "execution_count": 34,
   "metadata": {},
   "outputs": [
    {
     "data": {
      "text/plain": [
       "MultinomialNB(alpha=1.0, class_prior=None, fit_prior=True)"
      ]
     },
     "execution_count": 34,
     "metadata": {},
     "output_type": "execute_result"
    }
   ],
   "source": [
    "# Naive Bayes Classifier\n",
    "\n",
    "nb = MultinomialNB()\n",
    "nb.fit(X_train,y_train)"
   ]
  },
  {
   "cell_type": "code",
   "execution_count": 35,
   "metadata": {},
   "outputs": [
    {
     "data": {
      "text/plain": [
       "0.6033654727426037"
      ]
     },
     "execution_count": 35,
     "metadata": {},
     "output_type": "execute_result"
    }
   ],
   "source": [
    "# Accuracy Score\n",
    "nb.score(X_test,y_test)"
   ]
  },
  {
   "cell_type": "code",
   "execution_count": 36,
   "metadata": {},
   "outputs": [
    {
     "name": "stderr",
     "output_type": "stream",
     "text": [
      "/home/rohit/anaconda3/lib/python3.7/site-packages/sklearn/linear_model/logistic.py:432: FutureWarning: Default solver will be changed to 'lbfgs' in 0.22. Specify a solver to silence this warning.\n",
      "  FutureWarning)\n",
      "/home/rohit/anaconda3/lib/python3.7/site-packages/sklearn/linear_model/logistic.py:469: FutureWarning: Default multi_class will be changed to 'auto' in 0.22. Specify the multi_class option to silence this warning.\n",
      "  \"this warning.\", FutureWarning)\n"
     ]
    },
    {
     "data": {
      "text/plain": [
       "LogisticRegression(C=1.0, class_weight=None, dual=False, fit_intercept=True,\n",
       "                   intercept_scaling=1, l1_ratio=None, max_iter=100,\n",
       "                   multi_class='warn', n_jobs=None, penalty='l2',\n",
       "                   random_state=None, solver='warn', tol=0.0001, verbose=0,\n",
       "                   warm_start=False)"
      ]
     },
     "execution_count": 36,
     "metadata": {},
     "output_type": "execute_result"
    }
   ],
   "source": [
    "# Logistic Regression\n",
    "logit = LogisticRegression()\n",
    "logit.fit(X_train,y_train)"
   ]
  },
  {
   "cell_type": "code",
   "execution_count": 37,
   "metadata": {},
   "outputs": [
    {
     "data": {
      "text/plain": [
       "0.7030831836345639"
      ]
     },
     "execution_count": 37,
     "metadata": {},
     "output_type": "execute_result"
    }
   ],
   "source": [
    "logit.score(X_test,y_test)"
   ]
  },
  {
   "cell_type": "code",
   "execution_count": 38,
   "metadata": {},
   "outputs": [],
   "source": [
    "from sklearn.ensemble import RandomForestClassifier"
   ]
  },
  {
   "cell_type": "code",
   "execution_count": 39,
   "metadata": {},
   "outputs": [],
   "source": [
    "rf = RandomForestClassifier()"
   ]
  },
  {
   "cell_type": "code",
   "execution_count": 40,
   "metadata": {},
   "outputs": [
    {
     "name": "stderr",
     "output_type": "stream",
     "text": [
      "/home/rohit/anaconda3/lib/python3.7/site-packages/sklearn/ensemble/forest.py:245: FutureWarning: The default value of n_estimators will change from 10 in version 0.20 to 100 in 0.22.\n",
      "  \"10 in version 0.20 to 100 in 0.22.\", FutureWarning)\n"
     ]
    },
    {
     "data": {
      "text/plain": [
       "RandomForestClassifier(bootstrap=True, class_weight=None, criterion='gini',\n",
       "                       max_depth=None, max_features='auto', max_leaf_nodes=None,\n",
       "                       min_impurity_decrease=0.0, min_impurity_split=None,\n",
       "                       min_samples_leaf=1, min_samples_split=2,\n",
       "                       min_weight_fraction_leaf=0.0, n_estimators=10,\n",
       "                       n_jobs=None, oob_score=False, random_state=None,\n",
       "                       verbose=0, warm_start=False)"
      ]
     },
     "execution_count": 40,
     "metadata": {},
     "output_type": "execute_result"
    }
   ],
   "source": [
    "rf.fit(X_train,y_train)"
   ]
  },
  {
   "cell_type": "code",
   "execution_count": 41,
   "metadata": {},
   "outputs": [
    {
     "data": {
      "text/plain": [
       "0.5444880302086007"
      ]
     },
     "execution_count": 41,
     "metadata": {},
     "output_type": "execute_result"
    }
   ],
   "source": [
    "rf.score(X_test,y_test)"
   ]
  },
  {
   "cell_type": "code",
   "execution_count": 42,
   "metadata": {},
   "outputs": [],
   "source": [
    "pred_log = logit.predict(X_test)"
   ]
  },
  {
   "cell_type": "code",
   "execution_count": 43,
   "metadata": {},
   "outputs": [
    {
     "data": {
      "text/plain": [
       "array(['Red Blend', 'Tempranillo', 'Sauvignon Blanc', ...,\n",
       "       'Cabernet Sauvignon', 'Sauvignon Blanc', 'Cabernet Franc'],\n",
       "      dtype=object)"
      ]
     },
     "execution_count": 43,
     "metadata": {},
     "output_type": "execute_result"
    }
   ],
   "source": [
    "pred_log"
   ]
  },
  {
   "cell_type": "code",
   "execution_count": 24,
   "metadata": {},
   "outputs": [
    {
     "data": {
      "text/html": [
       "<div>\n",
       "<style scoped>\n",
       "    .dataframe tbody tr th:only-of-type {\n",
       "        vertical-align: middle;\n",
       "    }\n",
       "\n",
       "    .dataframe tbody tr th {\n",
       "        vertical-align: top;\n",
       "    }\n",
       "\n",
       "    .dataframe thead th {\n",
       "        text-align: right;\n",
       "    }\n",
       "</style>\n",
       "<table border=\"1\" class=\"dataframe\">\n",
       "  <thead>\n",
       "    <tr style=\"text-align: right;\">\n",
       "      <th></th>\n",
       "      <th>user_name</th>\n",
       "      <th>country</th>\n",
       "      <th>review_title</th>\n",
       "      <th>review_description</th>\n",
       "      <th>designation</th>\n",
       "      <th>points</th>\n",
       "      <th>price</th>\n",
       "      <th>province</th>\n",
       "      <th>region_1</th>\n",
       "      <th>region_2</th>\n",
       "      <th>winery</th>\n",
       "    </tr>\n",
       "  </thead>\n",
       "  <tbody>\n",
       "    <tr>\n",
       "      <td>0</td>\n",
       "      <td>@paulgwine</td>\n",
       "      <td>US</td>\n",
       "      <td>Boedecker Cellars 2011 Athena Pinot Noir (Will...</td>\n",
       "      <td>Nicely differentiated from the companion Stewa...</td>\n",
       "      <td>Athena</td>\n",
       "      <td>88</td>\n",
       "      <td>35.0</td>\n",
       "      <td>Oregon</td>\n",
       "      <td>Willamette Valley</td>\n",
       "      <td>Willamette Valley</td>\n",
       "      <td>Boedecker Cellars</td>\n",
       "    </tr>\n",
       "    <tr>\n",
       "      <td>1</td>\n",
       "      <td>@wineschach</td>\n",
       "      <td>Argentina</td>\n",
       "      <td>Mendoza Vineyards 2012 Gran Reserva by Richard...</td>\n",
       "      <td>Charred, smoky, herbal aromas of blackberry tr...</td>\n",
       "      <td>Gran Reserva by Richard Bonvin</td>\n",
       "      <td>90</td>\n",
       "      <td>60.0</td>\n",
       "      <td>Mendoza Province</td>\n",
       "      <td>Mendoza</td>\n",
       "      <td>NaN</td>\n",
       "      <td>Mendoza Vineyards</td>\n",
       "    </tr>\n",
       "    <tr>\n",
       "      <td>2</td>\n",
       "      <td>@vboone</td>\n",
       "      <td>US</td>\n",
       "      <td>Prime 2013 Chardonnay (Coombsville)</td>\n",
       "      <td>Slightly sour and funky in earth, this is a re...</td>\n",
       "      <td>NaN</td>\n",
       "      <td>87</td>\n",
       "      <td>38.0</td>\n",
       "      <td>California</td>\n",
       "      <td>Coombsville</td>\n",
       "      <td>Napa</td>\n",
       "      <td>Prime</td>\n",
       "    </tr>\n",
       "    <tr>\n",
       "      <td>3</td>\n",
       "      <td>@wineschach</td>\n",
       "      <td>Argentina</td>\n",
       "      <td>Bodega Cuarto Dominio 2012 Chento Vineyard Sel...</td>\n",
       "      <td>This concentrated, midnight-black Malbec deliv...</td>\n",
       "      <td>Chento Vineyard Selection</td>\n",
       "      <td>91</td>\n",
       "      <td>20.0</td>\n",
       "      <td>Mendoza Province</td>\n",
       "      <td>Mendoza</td>\n",
       "      <td>NaN</td>\n",
       "      <td>Bodega Cuarto Dominio</td>\n",
       "    </tr>\n",
       "    <tr>\n",
       "      <td>4</td>\n",
       "      <td>@kerinokeefe</td>\n",
       "      <td>Italy</td>\n",
       "      <td>SassodiSole 2012  Brunello di Montalcino</td>\n",
       "      <td>Earthy aromas suggesting grilled porcini, leat...</td>\n",
       "      <td>NaN</td>\n",
       "      <td>90</td>\n",
       "      <td>49.0</td>\n",
       "      <td>Tuscany</td>\n",
       "      <td>Brunello di Montalcino</td>\n",
       "      <td>NaN</td>\n",
       "      <td>SassodiSole</td>\n",
       "    </tr>\n",
       "  </tbody>\n",
       "</table>\n",
       "</div>"
      ],
      "text/plain": [
       "      user_name    country                                       review_title  \\\n",
       "0   @paulgwine          US  Boedecker Cellars 2011 Athena Pinot Noir (Will...   \n",
       "1   @wineschach  Argentina  Mendoza Vineyards 2012 Gran Reserva by Richard...   \n",
       "2       @vboone         US                Prime 2013 Chardonnay (Coombsville)   \n",
       "3   @wineschach  Argentina  Bodega Cuarto Dominio 2012 Chento Vineyard Sel...   \n",
       "4  @kerinokeefe      Italy           SassodiSole 2012  Brunello di Montalcino   \n",
       "\n",
       "                                  review_description  \\\n",
       "0  Nicely differentiated from the companion Stewa...   \n",
       "1  Charred, smoky, herbal aromas of blackberry tr...   \n",
       "2  Slightly sour and funky in earth, this is a re...   \n",
       "3  This concentrated, midnight-black Malbec deliv...   \n",
       "4  Earthy aromas suggesting grilled porcini, leat...   \n",
       "\n",
       "                      designation  points  price          province  \\\n",
       "0                          Athena      88   35.0            Oregon   \n",
       "1  Gran Reserva by Richard Bonvin      90   60.0  Mendoza Province   \n",
       "2                             NaN      87   38.0        California   \n",
       "3       Chento Vineyard Selection      91   20.0  Mendoza Province   \n",
       "4                             NaN      90   49.0           Tuscany   \n",
       "\n",
       "                 region_1           region_2                 winery  \n",
       "0       Willamette Valley  Willamette Valley      Boedecker Cellars  \n",
       "1                 Mendoza                NaN      Mendoza Vineyards  \n",
       "2             Coombsville               Napa                  Prime  \n",
       "3                 Mendoza                NaN  Bodega Cuarto Dominio  \n",
       "4  Brunello di Montalcino                NaN            SassodiSole  "
      ]
     },
     "execution_count": 24,
     "metadata": {},
     "output_type": "execute_result"
    }
   ],
   "source": [
    "test_data = pd.read_csv('test.csv')\n",
    "test_data.head()"
   ]
  },
  {
   "cell_type": "code",
   "execution_count": 27,
   "metadata": {},
   "outputs": [
    {
     "name": "stdout",
     "output_type": "stream",
     "text": [
      "<class 'pandas.core.frame.DataFrame'>\n",
      "RangeIndex: 20665 entries, 0 to 20664\n",
      "Data columns (total 11 columns):\n",
      "user_name             15927 non-null object\n",
      "country               20661 non-null object\n",
      "review_title          20665 non-null object\n",
      "review_description    20665 non-null object\n",
      "designation           14676 non-null object\n",
      "points                20665 non-null int64\n",
      "price                 19271 non-null float64\n",
      "province              20661 non-null object\n",
      "region_1              17351 non-null object\n",
      "region_2              8914 non-null object\n",
      "winery                20665 non-null object\n",
      "dtypes: float64(1), int64(1), object(9)\n",
      "memory usage: 1.7+ MB\n"
     ]
    }
   ],
   "source": [
    "test_data.info()"
   ]
  },
  {
   "cell_type": "code",
   "execution_count": 28,
   "metadata": {},
   "outputs": [],
   "source": [
    "test_corpus = test_data['review_description']\n",
    "test_cv = CountVectorizer()\n",
    "test_X = test_cv.fit_transform(test_corpus)"
   ]
  },
  {
   "cell_type": "code",
   "execution_count": 29,
   "metadata": {},
   "outputs": [
    {
     "data": {
      "text/plain": [
       "(20665, 15526)"
      ]
     },
     "execution_count": 29,
     "metadata": {},
     "output_type": "execute_result"
    }
   ],
   "source": [
    "test_X.shape"
   ]
  },
  {
   "cell_type": "code",
   "execution_count": 45,
   "metadata": {},
   "outputs": [
    {
     "data": {
      "text/plain": [
       "<bound method NDFrame.head of                         0\n",
       "0      Cabernet Sauvignon\n",
       "1          Portuguese Red\n",
       "2      Cabernet Sauvignon\n",
       "3              Chardonnay\n",
       "4              Chardonnay\n",
       "...                   ...\n",
       "20660  Cabernet Sauvignon\n",
       "20661     Sauvignon Blanc\n",
       "20662      Cabernet Franc\n",
       "20663           Zinfandel\n",
       "20664  Cabernet Sauvignon\n",
       "\n",
       "[20665 rows x 1 columns]>"
      ]
     },
     "execution_count": 45,
     "metadata": {},
     "output_type": "execute_result"
    }
   ],
   "source": [
    "test_pred = logit.predict(test_X)\n",
    "test_pred = pd.DataFrame(test_pred)\n",
    "test_pred.head"
   ]
  },
  {
   "cell_type": "code",
   "execution_count": 46,
   "metadata": {},
   "outputs": [
    {
     "data": {
      "text/html": [
       "<div>\n",
       "<style scoped>\n",
       "    .dataframe tbody tr th:only-of-type {\n",
       "        vertical-align: middle;\n",
       "    }\n",
       "\n",
       "    .dataframe tbody tr th {\n",
       "        vertical-align: top;\n",
       "    }\n",
       "\n",
       "    .dataframe thead th {\n",
       "        text-align: right;\n",
       "    }\n",
       "</style>\n",
       "<table border=\"1\" class=\"dataframe\">\n",
       "  <thead>\n",
       "    <tr style=\"text-align: right;\">\n",
       "      <th></th>\n",
       "      <th>variety</th>\n",
       "    </tr>\n",
       "  </thead>\n",
       "  <tbody>\n",
       "    <tr>\n",
       "      <td>0</td>\n",
       "      <td>Cabernet Sauvignon</td>\n",
       "    </tr>\n",
       "    <tr>\n",
       "      <td>1</td>\n",
       "      <td>Portuguese Red</td>\n",
       "    </tr>\n",
       "    <tr>\n",
       "      <td>2</td>\n",
       "      <td>Cabernet Sauvignon</td>\n",
       "    </tr>\n",
       "    <tr>\n",
       "      <td>3</td>\n",
       "      <td>Chardonnay</td>\n",
       "    </tr>\n",
       "    <tr>\n",
       "      <td>4</td>\n",
       "      <td>Chardonnay</td>\n",
       "    </tr>\n",
       "    <tr>\n",
       "      <td>...</td>\n",
       "      <td>...</td>\n",
       "    </tr>\n",
       "    <tr>\n",
       "      <td>20660</td>\n",
       "      <td>Cabernet Sauvignon</td>\n",
       "    </tr>\n",
       "    <tr>\n",
       "      <td>20661</td>\n",
       "      <td>Sauvignon Blanc</td>\n",
       "    </tr>\n",
       "    <tr>\n",
       "      <td>20662</td>\n",
       "      <td>Cabernet Franc</td>\n",
       "    </tr>\n",
       "    <tr>\n",
       "      <td>20663</td>\n",
       "      <td>Zinfandel</td>\n",
       "    </tr>\n",
       "    <tr>\n",
       "      <td>20664</td>\n",
       "      <td>Cabernet Sauvignon</td>\n",
       "    </tr>\n",
       "  </tbody>\n",
       "</table>\n",
       "<p>20665 rows × 1 columns</p>\n",
       "</div>"
      ],
      "text/plain": [
       "                  variety\n",
       "0      Cabernet Sauvignon\n",
       "1          Portuguese Red\n",
       "2      Cabernet Sauvignon\n",
       "3              Chardonnay\n",
       "4              Chardonnay\n",
       "...                   ...\n",
       "20660  Cabernet Sauvignon\n",
       "20661     Sauvignon Blanc\n",
       "20662      Cabernet Franc\n",
       "20663           Zinfandel\n",
       "20664  Cabernet Sauvignon\n",
       "\n",
       "[20665 rows x 1 columns]"
      ]
     },
     "execution_count": 46,
     "metadata": {},
     "output_type": "execute_result"
    }
   ],
   "source": [
    "test_pred.columns = ['variety']\n",
    "test_pred"
   ]
  },
  {
   "cell_type": "code",
   "execution_count": 50,
   "metadata": {},
   "outputs": [],
   "source": [
    "test_data_ori = pd.concat([test_data,test_pred], axis=1)"
   ]
  },
  {
   "cell_type": "code",
   "execution_count": 51,
   "metadata": {},
   "outputs": [
    {
     "data": {
      "text/html": [
       "<div>\n",
       "<style scoped>\n",
       "    .dataframe tbody tr th:only-of-type {\n",
       "        vertical-align: middle;\n",
       "    }\n",
       "\n",
       "    .dataframe tbody tr th {\n",
       "        vertical-align: top;\n",
       "    }\n",
       "\n",
       "    .dataframe thead th {\n",
       "        text-align: right;\n",
       "    }\n",
       "</style>\n",
       "<table border=\"1\" class=\"dataframe\">\n",
       "  <thead>\n",
       "    <tr style=\"text-align: right;\">\n",
       "      <th></th>\n",
       "      <th>user_name</th>\n",
       "      <th>country</th>\n",
       "      <th>review_title</th>\n",
       "      <th>review_description</th>\n",
       "      <th>designation</th>\n",
       "      <th>points</th>\n",
       "      <th>price</th>\n",
       "      <th>province</th>\n",
       "      <th>region_1</th>\n",
       "      <th>region_2</th>\n",
       "      <th>winery</th>\n",
       "      <th>variety</th>\n",
       "    </tr>\n",
       "  </thead>\n",
       "  <tbody>\n",
       "    <tr>\n",
       "      <td>0</td>\n",
       "      <td>@paulgwine</td>\n",
       "      <td>US</td>\n",
       "      <td>Boedecker Cellars 2011 Athena Pinot Noir (Will...</td>\n",
       "      <td>Nicely differentiated from the companion Stewa...</td>\n",
       "      <td>Athena</td>\n",
       "      <td>88</td>\n",
       "      <td>35.0</td>\n",
       "      <td>Oregon</td>\n",
       "      <td>Willamette Valley</td>\n",
       "      <td>Willamette Valley</td>\n",
       "      <td>Boedecker Cellars</td>\n",
       "      <td>Cabernet Sauvignon</td>\n",
       "    </tr>\n",
       "    <tr>\n",
       "      <td>1</td>\n",
       "      <td>@wineschach</td>\n",
       "      <td>Argentina</td>\n",
       "      <td>Mendoza Vineyards 2012 Gran Reserva by Richard...</td>\n",
       "      <td>Charred, smoky, herbal aromas of blackberry tr...</td>\n",
       "      <td>Gran Reserva by Richard Bonvin</td>\n",
       "      <td>90</td>\n",
       "      <td>60.0</td>\n",
       "      <td>Mendoza Province</td>\n",
       "      <td>Mendoza</td>\n",
       "      <td>NaN</td>\n",
       "      <td>Mendoza Vineyards</td>\n",
       "      <td>Portuguese Red</td>\n",
       "    </tr>\n",
       "    <tr>\n",
       "      <td>2</td>\n",
       "      <td>@vboone</td>\n",
       "      <td>US</td>\n",
       "      <td>Prime 2013 Chardonnay (Coombsville)</td>\n",
       "      <td>Slightly sour and funky in earth, this is a re...</td>\n",
       "      <td>NaN</td>\n",
       "      <td>87</td>\n",
       "      <td>38.0</td>\n",
       "      <td>California</td>\n",
       "      <td>Coombsville</td>\n",
       "      <td>Napa</td>\n",
       "      <td>Prime</td>\n",
       "      <td>Cabernet Sauvignon</td>\n",
       "    </tr>\n",
       "    <tr>\n",
       "      <td>3</td>\n",
       "      <td>@wineschach</td>\n",
       "      <td>Argentina</td>\n",
       "      <td>Bodega Cuarto Dominio 2012 Chento Vineyard Sel...</td>\n",
       "      <td>This concentrated, midnight-black Malbec deliv...</td>\n",
       "      <td>Chento Vineyard Selection</td>\n",
       "      <td>91</td>\n",
       "      <td>20.0</td>\n",
       "      <td>Mendoza Province</td>\n",
       "      <td>Mendoza</td>\n",
       "      <td>NaN</td>\n",
       "      <td>Bodega Cuarto Dominio</td>\n",
       "      <td>Chardonnay</td>\n",
       "    </tr>\n",
       "    <tr>\n",
       "      <td>4</td>\n",
       "      <td>@kerinokeefe</td>\n",
       "      <td>Italy</td>\n",
       "      <td>SassodiSole 2012  Brunello di Montalcino</td>\n",
       "      <td>Earthy aromas suggesting grilled porcini, leat...</td>\n",
       "      <td>NaN</td>\n",
       "      <td>90</td>\n",
       "      <td>49.0</td>\n",
       "      <td>Tuscany</td>\n",
       "      <td>Brunello di Montalcino</td>\n",
       "      <td>NaN</td>\n",
       "      <td>SassodiSole</td>\n",
       "      <td>Chardonnay</td>\n",
       "    </tr>\n",
       "  </tbody>\n",
       "</table>\n",
       "</div>"
      ],
      "text/plain": [
       "      user_name    country                                       review_title  \\\n",
       "0   @paulgwine          US  Boedecker Cellars 2011 Athena Pinot Noir (Will...   \n",
       "1   @wineschach  Argentina  Mendoza Vineyards 2012 Gran Reserva by Richard...   \n",
       "2       @vboone         US                Prime 2013 Chardonnay (Coombsville)   \n",
       "3   @wineschach  Argentina  Bodega Cuarto Dominio 2012 Chento Vineyard Sel...   \n",
       "4  @kerinokeefe      Italy           SassodiSole 2012  Brunello di Montalcino   \n",
       "\n",
       "                                  review_description  \\\n",
       "0  Nicely differentiated from the companion Stewa...   \n",
       "1  Charred, smoky, herbal aromas of blackberry tr...   \n",
       "2  Slightly sour and funky in earth, this is a re...   \n",
       "3  This concentrated, midnight-black Malbec deliv...   \n",
       "4  Earthy aromas suggesting grilled porcini, leat...   \n",
       "\n",
       "                      designation  points  price          province  \\\n",
       "0                          Athena      88   35.0            Oregon   \n",
       "1  Gran Reserva by Richard Bonvin      90   60.0  Mendoza Province   \n",
       "2                             NaN      87   38.0        California   \n",
       "3       Chento Vineyard Selection      91   20.0  Mendoza Province   \n",
       "4                             NaN      90   49.0           Tuscany   \n",
       "\n",
       "                 region_1           region_2                 winery  \\\n",
       "0       Willamette Valley  Willamette Valley      Boedecker Cellars   \n",
       "1                 Mendoza                NaN      Mendoza Vineyards   \n",
       "2             Coombsville               Napa                  Prime   \n",
       "3                 Mendoza                NaN  Bodega Cuarto Dominio   \n",
       "4  Brunello di Montalcino                NaN            SassodiSole   \n",
       "\n",
       "              variety  \n",
       "0  Cabernet Sauvignon  \n",
       "1      Portuguese Red  \n",
       "2  Cabernet Sauvignon  \n",
       "3          Chardonnay  \n",
       "4          Chardonnay  "
      ]
     },
     "execution_count": 51,
     "metadata": {},
     "output_type": "execute_result"
    }
   ],
   "source": [
    "test_data_ori.head()"
   ]
  },
  {
   "cell_type": "code",
   "execution_count": 54,
   "metadata": {},
   "outputs": [],
   "source": [
    "test_data_ori.to_csv(\"result.csv\",index=False)"
   ]
  },
  {
   "cell_type": "code",
   "execution_count": 55,
   "metadata": {},
   "outputs": [
    {
     "data": {
      "text/html": [
       "<div>\n",
       "<style scoped>\n",
       "    .dataframe tbody tr th:only-of-type {\n",
       "        vertical-align: middle;\n",
       "    }\n",
       "\n",
       "    .dataframe tbody tr th {\n",
       "        vertical-align: top;\n",
       "    }\n",
       "\n",
       "    .dataframe thead th {\n",
       "        text-align: right;\n",
       "    }\n",
       "</style>\n",
       "<table border=\"1\" class=\"dataframe\">\n",
       "  <thead>\n",
       "    <tr style=\"text-align: right;\">\n",
       "      <th></th>\n",
       "      <th>user_name</th>\n",
       "      <th>country</th>\n",
       "      <th>review_title</th>\n",
       "      <th>review_description</th>\n",
       "      <th>designation</th>\n",
       "      <th>points</th>\n",
       "      <th>price</th>\n",
       "      <th>province</th>\n",
       "      <th>region_1</th>\n",
       "      <th>region_2</th>\n",
       "      <th>winery</th>\n",
       "      <th>variety</th>\n",
       "    </tr>\n",
       "  </thead>\n",
       "  <tbody>\n",
       "    <tr>\n",
       "      <td>0</td>\n",
       "      <td>@paulgwine</td>\n",
       "      <td>US</td>\n",
       "      <td>Boedecker Cellars 2011 Athena Pinot Noir (Will...</td>\n",
       "      <td>Nicely differentiated from the companion Stewa...</td>\n",
       "      <td>Athena</td>\n",
       "      <td>88</td>\n",
       "      <td>35.0</td>\n",
       "      <td>Oregon</td>\n",
       "      <td>Willamette Valley</td>\n",
       "      <td>Willamette Valley</td>\n",
       "      <td>Boedecker Cellars</td>\n",
       "      <td>Cabernet Sauvignon</td>\n",
       "    </tr>\n",
       "    <tr>\n",
       "      <td>1</td>\n",
       "      <td>@wineschach</td>\n",
       "      <td>Argentina</td>\n",
       "      <td>Mendoza Vineyards 2012 Gran Reserva by Richard...</td>\n",
       "      <td>Charred, smoky, herbal aromas of blackberry tr...</td>\n",
       "      <td>Gran Reserva by Richard Bonvin</td>\n",
       "      <td>90</td>\n",
       "      <td>60.0</td>\n",
       "      <td>Mendoza Province</td>\n",
       "      <td>Mendoza</td>\n",
       "      <td>NaN</td>\n",
       "      <td>Mendoza Vineyards</td>\n",
       "      <td>Portuguese Red</td>\n",
       "    </tr>\n",
       "    <tr>\n",
       "      <td>2</td>\n",
       "      <td>@vboone</td>\n",
       "      <td>US</td>\n",
       "      <td>Prime 2013 Chardonnay (Coombsville)</td>\n",
       "      <td>Slightly sour and funky in earth, this is a re...</td>\n",
       "      <td>NaN</td>\n",
       "      <td>87</td>\n",
       "      <td>38.0</td>\n",
       "      <td>California</td>\n",
       "      <td>Coombsville</td>\n",
       "      <td>Napa</td>\n",
       "      <td>Prime</td>\n",
       "      <td>Cabernet Sauvignon</td>\n",
       "    </tr>\n",
       "    <tr>\n",
       "      <td>3</td>\n",
       "      <td>@wineschach</td>\n",
       "      <td>Argentina</td>\n",
       "      <td>Bodega Cuarto Dominio 2012 Chento Vineyard Sel...</td>\n",
       "      <td>This concentrated, midnight-black Malbec deliv...</td>\n",
       "      <td>Chento Vineyard Selection</td>\n",
       "      <td>91</td>\n",
       "      <td>20.0</td>\n",
       "      <td>Mendoza Province</td>\n",
       "      <td>Mendoza</td>\n",
       "      <td>NaN</td>\n",
       "      <td>Bodega Cuarto Dominio</td>\n",
       "      <td>Chardonnay</td>\n",
       "    </tr>\n",
       "    <tr>\n",
       "      <td>4</td>\n",
       "      <td>@kerinokeefe</td>\n",
       "      <td>Italy</td>\n",
       "      <td>SassodiSole 2012  Brunello di Montalcino</td>\n",
       "      <td>Earthy aromas suggesting grilled porcini, leat...</td>\n",
       "      <td>NaN</td>\n",
       "      <td>90</td>\n",
       "      <td>49.0</td>\n",
       "      <td>Tuscany</td>\n",
       "      <td>Brunello di Montalcino</td>\n",
       "      <td>NaN</td>\n",
       "      <td>SassodiSole</td>\n",
       "      <td>Chardonnay</td>\n",
       "    </tr>\n",
       "  </tbody>\n",
       "</table>\n",
       "</div>"
      ],
      "text/plain": [
       "      user_name    country                                       review_title  \\\n",
       "0   @paulgwine          US  Boedecker Cellars 2011 Athena Pinot Noir (Will...   \n",
       "1   @wineschach  Argentina  Mendoza Vineyards 2012 Gran Reserva by Richard...   \n",
       "2       @vboone         US                Prime 2013 Chardonnay (Coombsville)   \n",
       "3   @wineschach  Argentina  Bodega Cuarto Dominio 2012 Chento Vineyard Sel...   \n",
       "4  @kerinokeefe      Italy           SassodiSole 2012  Brunello di Montalcino   \n",
       "\n",
       "                                  review_description  \\\n",
       "0  Nicely differentiated from the companion Stewa...   \n",
       "1  Charred, smoky, herbal aromas of blackberry tr...   \n",
       "2  Slightly sour and funky in earth, this is a re...   \n",
       "3  This concentrated, midnight-black Malbec deliv...   \n",
       "4  Earthy aromas suggesting grilled porcini, leat...   \n",
       "\n",
       "                      designation  points  price          province  \\\n",
       "0                          Athena      88   35.0            Oregon   \n",
       "1  Gran Reserva by Richard Bonvin      90   60.0  Mendoza Province   \n",
       "2                             NaN      87   38.0        California   \n",
       "3       Chento Vineyard Selection      91   20.0  Mendoza Province   \n",
       "4                             NaN      90   49.0           Tuscany   \n",
       "\n",
       "                 region_1           region_2                 winery  \\\n",
       "0       Willamette Valley  Willamette Valley      Boedecker Cellars   \n",
       "1                 Mendoza                NaN      Mendoza Vineyards   \n",
       "2             Coombsville               Napa                  Prime   \n",
       "3                 Mendoza                NaN  Bodega Cuarto Dominio   \n",
       "4  Brunello di Montalcino                NaN            SassodiSole   \n",
       "\n",
       "              variety  \n",
       "0  Cabernet Sauvignon  \n",
       "1      Portuguese Red  \n",
       "2  Cabernet Sauvignon  \n",
       "3          Chardonnay  \n",
       "4          Chardonnay  "
      ]
     },
     "execution_count": 55,
     "metadata": {},
     "output_type": "execute_result"
    }
   ],
   "source": [
    "re = pd.read_csv('result.csv')\n",
    "re.head()"
   ]
  },
  {
   "cell_type": "code",
   "execution_count": 56,
   "metadata": {},
   "outputs": [
    {
     "name": "stdout",
     "output_type": "stream",
     "text": [
      "<class 'pandas.core.frame.DataFrame'>\n",
      "RangeIndex: 20665 entries, 0 to 20664\n",
      "Data columns (total 12 columns):\n",
      "user_name             15927 non-null object\n",
      "country               20661 non-null object\n",
      "review_title          20665 non-null object\n",
      "review_description    20665 non-null object\n",
      "designation           14676 non-null object\n",
      "points                20665 non-null int64\n",
      "price                 19271 non-null float64\n",
      "province              20661 non-null object\n",
      "region_1              17351 non-null object\n",
      "region_2              8914 non-null object\n",
      "winery                20665 non-null object\n",
      "variety               20665 non-null object\n",
      "dtypes: float64(1), int64(1), object(10)\n",
      "memory usage: 1.9+ MB\n"
     ]
    }
   ],
   "source": [
    "re.info()"
   ]
  },
  {
   "cell_type": "code",
   "execution_count": null,
   "metadata": {},
   "outputs": [],
   "source": []
  }
 ],
 "metadata": {
  "kernelspec": {
   "display_name": "Python 3",
   "language": "python",
   "name": "python3"
  },
  "language_info": {
   "codemirror_mode": {
    "name": "ipython",
    "version": 3
   },
   "file_extension": ".py",
   "mimetype": "text/x-python",
   "name": "python",
   "nbconvert_exporter": "python",
   "pygments_lexer": "ipython3",
   "version": "3.7.4"
  }
 },
 "nbformat": 4,
 "nbformat_minor": 2
}
